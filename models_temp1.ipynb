{
 "cells": [
  {
   "cell_type": "code",
   "execution_count": 15,
   "metadata": {
    "collapsed": true
   },
   "outputs": [],
   "source": [
    "import pandas as pd\n",
    "import numpy as np\n",
    "from sklearn import metrics\n",
    "from sklearn.discriminant_analysis import LinearDiscriminantAnalysis\n",
    "from sklearn.discriminant_analysis import QuadraticDiscriminantAnalysis\n",
    "from sklearn.neighbors import KNeighborsClassifier \n",
    "from sklearn.model_selection import cross_val_score "
   ]
  },
  {
   "cell_type": "code",
   "execution_count": 16,
   "metadata": {
    "collapsed": true
   },
   "outputs": [],
   "source": [
    "df_train = pd.read_csv(\"ADNIMERGE_train.csv\")\n",
    "df_test = pd.read_csv(\"ADNIMERGE_test.csv\")"
   ]
  },
  {
   "cell_type": "code",
   "execution_count": 17,
   "metadata": {},
   "outputs": [
    {
     "data": {
      "text/plain": [
       "Index(['RID', 'DX_bl', 'PTGENDER', 'PTEDUCAT', 'PTRACCAT_Asian',\n",
       "       'PTRACCAT_Black', 'PTRACCAT_Hawaiian/Other_PI',\n",
       "       'PTRACCAT_More_than_one', 'PTRACCAT_Unknown', 'PTRACCAT_White',\n",
       "       'PTETHCAT_Not_Hisp/Latino', 'PTMARRY_Married', 'PTMARRY_Never_married',\n",
       "       'PTMARRY_Widowed', 'APOE4', 'APOE4_slope', 'CSF_ABETA',\n",
       "       'CSF_ABETA_slope', 'CSF_TAU', 'CSF_TAU_slope', 'CSF_PTAU',\n",
       "       'CSF_PTAU_slope', 'FDG', 'FDG_slope', 'AV45', 'AV45_slope', 'CDRSB',\n",
       "       'CDRSB_slope', 'ADAS13', 'ADAS13_slope', 'MMSE', 'MMSE_slope',\n",
       "       'RAVLT_immediate', 'RAVLT_immediate_slope', 'RAVLT_learning',\n",
       "       'RAVLT_learning_slope', 'RAVLT_forgetting', 'RAVLT_forgetting_slope',\n",
       "       'RAVLT_perc_forgetting', 'RAVLT_perc_forgetting_slope', 'MOCA',\n",
       "       'MOCA_slope', 'EcogPtMem', 'EcogPtMem_slope', 'EcogPtLang',\n",
       "       'EcogPtLang_slope', 'EcogPtVisspat', 'EcogPtVisspat_slope',\n",
       "       'EcogPtPlan', 'EcogPtPlan_slope', 'EcogPtOrgan', 'EcogPtOrgan_slope',\n",
       "       'EcogPtDivatt', 'EcogPtDivatt_slope', 'EcogSPMem', 'EcogSPMem_slope',\n",
       "       'EcogSPLang', 'EcogSPLang_slope', 'EcogSPVisspat',\n",
       "       'EcogSPVisspat_slope', 'EcogSPPlan', 'EcogSPPlan_slope', 'EcogSPOrgan',\n",
       "       'EcogSPOrgan_slope', 'EcogSPDivatt', 'EcogSPDivatt_slope', 'FAQ',\n",
       "       'FAQ_slope', 'Ventricles', 'Ventricles_slope', 'Hippocampus',\n",
       "       'Hippocampus_slope', 'WholeBrain', 'WholeBrain_slope', 'Entorhinal',\n",
       "       'Entorhinal_slope', 'Fusiform', 'Fusiform_slope', 'MidTemp',\n",
       "       'MidTemp_slope', 'ICV', 'ICV_slope'],\n",
       "      dtype='object')"
      ]
     },
     "execution_count": 17,
     "metadata": {},
     "output_type": "execute_result"
    }
   ],
   "source": [
    "df_train.columns"
   ]
  },
  {
   "cell_type": "markdown",
   "metadata": {},
   "source": [
    "### LDA & QDA"
   ]
  },
  {
   "cell_type": "code",
   "execution_count": 18,
   "metadata": {},
   "outputs": [],
   "source": [
    "# normalization\n",
    "cols_continuous = ['APOE4', 'APOE4_slope', 'CSF_ABETA',\n",
    "                   'CSF_ABETA_slope', 'CSF_TAU', 'CSF_TAU_slope', 'CSF_PTAU',\n",
    "                   'CSF_PTAU_slope', 'FDG', 'FDG_slope', 'AV45', 'AV45_slope', 'CDRSB',\n",
    "                   'CDRSB_slope', 'ADAS13', 'ADAS13_slope', 'MMSE', 'MMSE_slope',\n",
    "                   'RAVLT_immediate', 'RAVLT_immediate_slope', 'RAVLT_learning',\n",
    "                   'RAVLT_learning_slope', 'RAVLT_forgetting', 'RAVLT_forgetting_slope',\n",
    "                   'RAVLT_perc_forgetting', 'RAVLT_perc_forgetting_slope', 'MOCA',\n",
    "                   'MOCA_slope', 'EcogPtMem', 'EcogPtMem_slope', 'EcogPtLang',\n",
    "                   'EcogPtLang_slope', 'EcogPtVisspat', 'EcogPtVisspat_slope',\n",
    "                   'EcogPtPlan', 'EcogPtPlan_slope', 'EcogPtOrgan', 'EcogPtOrgan_slope',\n",
    "                   'EcogPtDivatt', 'EcogPtDivatt_slope', 'EcogSPMem', 'EcogSPMem_slope',\n",
    "                   'EcogSPLang', 'EcogSPLang_slope', 'EcogSPVisspat',\n",
    "                   'EcogSPVisspat_slope', 'EcogSPPlan', 'EcogSPPlan_slope', 'EcogSPOrgan',\n",
    "                   'EcogSPOrgan_slope', 'EcogSPDivatt', 'EcogSPDivatt_slope', 'FAQ',\n",
    "                   'FAQ_slope', 'Ventricles', 'Ventricles_slope', 'Hippocampus',\n",
    "                   'Hippocampus_slope', 'WholeBrain', 'WholeBrain_slope', 'Entorhinal',\n",
    "                   'Entorhinal_slope', 'Fusiform', 'Fusiform_slope', 'MidTemp',\n",
    "                   'MidTemp_slope', 'ICV', 'ICV_slope']\n",
    "\n",
    "X_train = df_train.drop(['RID', 'DX_bl'], axis=1).copy()\n",
    "y_train = df_train['DX_bl'].copy()\n",
    "X_test = df_test.drop(['RID', 'DX_bl'], axis=1).copy()\n",
    "y_test = df_test['DX_bl'].copy()\n",
    "for i in cols_continuous:\n",
    "    col_mean = np.mean(X_train[i])\n",
    "    col_sd = np.std(X_train[i])\n",
    "    if col_sd < 1e-10*col_mean:\n",
    "        X_train.loc[i] = (X_train[i]-col_mean)/col_sd\n",
    "        X_test.loc[i] = (X_test[i]-col_mean)/col_sd\n",
    "        "
   ]
  },
  {
   "cell_type": "code",
   "execution_count": 19,
   "metadata": {},
   "outputs": [
    {
     "name": "stdout",
     "output_type": "stream",
     "text": [
      "LDA Train Score:  0.869565217391\n",
      "QDA Train Score:  0.933977455717\n",
      "LDA Test Score:  0.827160493827\n",
      "QDA Test Score:  0.802469135802\n"
     ]
    },
    {
     "name": "stderr",
     "output_type": "stream",
     "text": [
      "/Users/shiyunqiu/anaconda3/lib/python3.5/site-packages/sklearn/discriminant_analysis.py:388: UserWarning: Variables are collinear.\n",
      "  warnings.warn(\"Variables are collinear.\")\n",
      "/Users/shiyunqiu/anaconda3/lib/python3.5/site-packages/sklearn/discriminant_analysis.py:682: UserWarning: Variables are collinear\n",
      "  warnings.warn(\"Variables are collinear\")\n"
     ]
    }
   ],
   "source": [
    "## LDA, QDA (standardization needed)\n",
    "\n",
    "lda = LinearDiscriminantAnalysis()\n",
    "qda = QuadraticDiscriminantAnalysis()\n",
    "\n",
    "lda.fit(X_train,y_train)\n",
    "qda.fit(X_train,y_train)\n",
    "\n",
    "print('LDA Train Score: ',lda.score(X_train,y_train))\n",
    "print('QDA Train Score: ',qda.score(X_train,y_train))\n",
    "\n",
    "print('LDA Test Score: ',lda.score(X_test,y_test))\n",
    "print('QDA Test Score: ',qda.score(X_test,y_test))\n",
    "\n",
    "\n",
    "def score(model, X_train, y_train, X_test, y_test):\n",
    "    train_acc = model.score(X_train,y_train)\n",
    "    test_acc = model.score(X_test,y_test)\n",
    "    test_class0 = model.score(X_test[y_test==0], y_test[y_test==0])\n",
    "    test_class1 = model.score(X_test[y_test==1], y_test[y_test==1])\n",
    "    test_class2 = model.score(X_test[y_test==2], y_test[y_test==2])\n",
    "    return pd.Series([train_acc, test_acc, test_class0, test_class1, test_class2],\n",
    "                    index = ['Train accuracy', 'Test accuracy', \n",
    "                             \"Test accuracy CN\", \"Test accuracy CI\", \"Test accuracy AD\"])\n",
    "\n",
    "lda_score = score(lda, X_train, y_train, X_test, y_test)\n",
    "qda_score = score(qda, X_train, y_train, X_test, y_test)"
   ]
  },
  {
   "cell_type": "markdown",
   "metadata": {},
   "source": [
    "### KNN"
   ]
  },
  {
   "cell_type": "code",
   "execution_count": 20,
   "metadata": {},
   "outputs": [
    {
     "name": "stdout",
     "output_type": "stream",
     "text": [
      "Optimal number of neighbours:  37\n",
      "KNN Train Score:  0.566827697262\n",
      "KNN Test Score:  0.592592592593\n"
     ]
    }
   ],
   "source": [
    "## KNN\n",
    "X_train = df_train.drop(['RID', 'DX_bl'], axis=1).copy()\n",
    "y_train = df_train['DX_bl'].copy()\n",
    "X_test = df_test.drop(['RID', 'DX_bl'], axis=1).copy()\n",
    "y_test = df_test['DX_bl'].copy()\n",
    "\n",
    "max_score = 0\n",
    "max_k = 0 \n",
    "\n",
    "for k in range(1,60):\n",
    "    knn = KNeighborsClassifier(n_neighbors = k)\n",
    "    knn_val_score = cross_val_score(knn, X_train, y_train).mean()\n",
    "    if knn_val_score > max_score:\n",
    "        max_k = k\n",
    "        max_score = knn_val_score\n",
    "        \n",
    "knn = KNeighborsClassifier(n_neighbors = max_k)\n",
    "knn.fit(X_train,y_train)\n",
    "\n",
    "print(\"Optimal number of neighbours: \", max_k)\n",
    "print('KNN Train Score: ', knn.score(X_train,y_train))\n",
    "print('KNN Test Score: ', knn.score(X_test,y_test))\n",
    "\n",
    "knn_score = score(knn, X_train, y_train, X_test, y_test)"
   ]
  },
  {
   "cell_type": "code",
   "execution_count": 21,
   "metadata": {},
   "outputs": [
    {
     "data": {
      "text/html": [
       "<div>\n",
       "<style>\n",
       "    .dataframe thead tr:only-child th {\n",
       "        text-align: right;\n",
       "    }\n",
       "\n",
       "    .dataframe thead th {\n",
       "        text-align: left;\n",
       "    }\n",
       "\n",
       "    .dataframe tbody tr th {\n",
       "        vertical-align: top;\n",
       "    }\n",
       "</style>\n",
       "<table border=\"1\" class=\"dataframe\">\n",
       "  <thead>\n",
       "    <tr style=\"text-align: right;\">\n",
       "      <th></th>\n",
       "      <th>knn</th>\n",
       "      <th>lda</th>\n",
       "      <th>qda</th>\n",
       "    </tr>\n",
       "  </thead>\n",
       "  <tbody>\n",
       "    <tr>\n",
       "      <th>Train accuracy</th>\n",
       "      <td>0.566828</td>\n",
       "      <td>0.869565</td>\n",
       "      <td>0.933977</td>\n",
       "    </tr>\n",
       "    <tr>\n",
       "      <th>Test accuracy</th>\n",
       "      <td>0.592593</td>\n",
       "      <td>0.827160</td>\n",
       "      <td>0.802469</td>\n",
       "    </tr>\n",
       "    <tr>\n",
       "      <th>Test accuracy CN</th>\n",
       "      <td>0.023810</td>\n",
       "      <td>0.690476</td>\n",
       "      <td>0.761905</td>\n",
       "    </tr>\n",
       "    <tr>\n",
       "      <th>Test accuracy CI</th>\n",
       "      <td>0.989247</td>\n",
       "      <td>0.881720</td>\n",
       "      <td>0.817204</td>\n",
       "    </tr>\n",
       "    <tr>\n",
       "      <th>Test accuracy AD</th>\n",
       "      <td>0.111111</td>\n",
       "      <td>0.851852</td>\n",
       "      <td>0.814815</td>\n",
       "    </tr>\n",
       "  </tbody>\n",
       "</table>\n",
       "</div>"
      ],
      "text/plain": [
       "                       knn       lda       qda\n",
       "Train accuracy    0.566828  0.869565  0.933977\n",
       "Test accuracy     0.592593  0.827160  0.802469\n",
       "Test accuracy CN  0.023810  0.690476  0.761905\n",
       "Test accuracy CI  0.989247  0.881720  0.817204\n",
       "Test accuracy AD  0.111111  0.851852  0.814815"
      ]
     },
     "execution_count": 21,
     "metadata": {},
     "output_type": "execute_result"
    }
   ],
   "source": [
    "score_df = pd.DataFrame({'knn': knn_score, \n",
    "                         'lda': lda_score,\n",
    "                         'qda': qda_score})\n",
    "score_df"
   ]
  },
  {
   "cell_type": "markdown",
   "metadata": {},
   "source": [
    "## Bootstrap"
   ]
  },
  {
   "cell_type": "code",
   "execution_count": 22,
   "metadata": {},
   "outputs": [
    {
     "name": "stderr",
     "output_type": "stream",
     "text": [
      "/Users/shiyunqiu/anaconda3/lib/python3.5/site-packages/sklearn/discriminant_analysis.py:388: UserWarning: Variables are collinear.\n",
      "  warnings.warn(\"Variables are collinear.\")\n",
      "/Users/shiyunqiu/anaconda3/lib/python3.5/site-packages/sklearn/discriminant_analysis.py:442: UserWarning: The priors do not sum to 1. Renormalizing\n",
      "  UserWarning)\n"
     ]
    },
    {
     "name": "stdout",
     "output_type": "stream",
     "text": [
      "Most significant coefficients: \n",
      "Index(['PTEDUCAT', 'CSF_PTAU_slope', 'CDRSB', 'ADAS13', 'MMSE', 'FAQ'], dtype='object')\n"
     ]
    }
   ],
   "source": [
    "iterations = 1000\n",
    "boot = np.zeros((X_train.shape[1], iterations))\n",
    "for i in range(iterations):\n",
    "    boot_rows = np.random.choice(range(X_train.shape[0]),\n",
    "                                 size=X_train.shape[0], replace=True)\n",
    "    X_train_boot = X_train.values[boot_rows]\n",
    "    y_train_boot = y_train.values[boot_rows]\n",
    "    model_boot = LinearDiscriminantAnalysis()\n",
    "    model_boot.fit(X_train_boot, y_train_boot)\n",
    "    boot[:,i] = model_boot.coef_[2,:]\n",
    "    \n",
    "boot_ci_upper = np.percentile(boot, 97.5, axis=1)\n",
    "boot_ci_lower = np.percentile(boot, 2.5, axis=1)\n",
    "sig_b_ct = []\n",
    "for i in range(X_train.shape[1]):\n",
    "    if boot_ci_upper[i]<0 or boot_ci_lower[i]>0:\n",
    "        sig_b_ct.append(i)\n",
    "        \n",
    "print(\"Most significant coefficients: \")\n",
    "print(X_train.columns[sig_b_ct])"
   ]
  },
  {
   "cell_type": "code",
   "execution_count": null,
   "metadata": {
    "collapsed": true
   },
   "outputs": [],
   "source": []
  }
 ],
 "metadata": {
  "kernelspec": {
   "display_name": "Python 3",
   "language": "python",
   "name": "python3"
  },
  "language_info": {
   "codemirror_mode": {
    "name": "ipython",
    "version": 3
   },
   "file_extension": ".py",
   "mimetype": "text/x-python",
   "name": "python",
   "nbconvert_exporter": "python",
   "pygments_lexer": "ipython3",
   "version": "3.5.4"
  }
 },
 "nbformat": 4,
 "nbformat_minor": 2
}
